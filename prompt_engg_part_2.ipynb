{
 "cells": [
  {
   "cell_type": "markdown",
   "metadata": {},
   "source": [
    "#### Prompt Engineering Applications Part 2 -  Inferring & Transforming"
   ]
  },
  {
   "cell_type": "code",
   "execution_count": 1,
   "metadata": {},
   "outputs": [],
   "source": [
    "import openai\n",
    "import os\n",
    "\n",
    "from dotenv import load_dotenv,find_dotenv\n",
    "\n",
    "_ =load_dotenv(find_dotenv())\n",
    "\n",
    "openai.api_key = os.getenv('OPENAI_API_KEY')"
   ]
  },
  {
   "cell_type": "code",
   "execution_count": 2,
   "metadata": {},
   "outputs": [],
   "source": [
    "def get_completion(prompt,model='gpt-4o'):\n",
    "\n",
    "    messages = [\n",
    "                {\"role\":\"user\",\n",
    "                \"content\":prompt}\n",
    "                ]\n",
    "    \n",
    "    response = openai.chat.completions.create(\n",
    "        model = model,\n",
    "        messages = messages,\n",
    "        temperature = 0\n",
    "    )\n",
    "\n",
    "    return response.choices[0].message.content"
   ]
  },
  {
   "cell_type": "code",
   "execution_count": 3,
   "metadata": {},
   "outputs": [],
   "source": [
    "# product review text\n",
    "\n",
    "lamp_review = \"\"\"\n",
    "Needed a nice lamp for my bedroom, and this one had \\\n",
    "additional storage and not too high of a price point. \\\n",
    "Got it fast.  The string to our lamp broke during the \\\n",
    "transit and the company happily sent over a new one. \\\n",
    "Came within a few days as well. It was easy to put \\\n",
    "together.  I had a missing part, so I contacted their \\\n",
    "support and they very quickly got me the missing piece! \\\n",
    "Lumina seems to me to be a great company that cares \\\n",
    "about their customers and products!!\n",
    "\"\"\""
   ]
  },
  {
   "cell_type": "code",
   "execution_count": 4,
   "metadata": {},
   "outputs": [],
   "source": [
    "prompt = f\"\"\"    \n",
    "What is the sentiment for the product review enclosed within triple backticks below\n",
    "\n",
    "Review: ```{lamp_review}```\n",
    "\"\"\""
   ]
  },
  {
   "cell_type": "code",
   "execution_count": 5,
   "metadata": {},
   "outputs": [],
   "source": [
    "response = get_completion(prompt)"
   ]
  },
  {
   "cell_type": "code",
   "execution_count": 7,
   "metadata": {},
   "outputs": [
    {
     "name": "stdout",
     "output_type": "stream",
     "text": [
      "The sentiment for the product review is positive. The reviewer expresses satisfaction with the lamp's features, the company's prompt response to issues, and the overall customer service experience. Despite encountering some problems, such as a broken string and a missing part, the reviewer appreciates the company's quick and helpful resolutions, indicating a positive impression of both the product and the company.\n"
     ]
    }
   ],
   "source": [
    "print(response)"
   ]
  },
  {
   "cell_type": "code",
   "execution_count": 8,
   "metadata": {},
   "outputs": [],
   "source": [
    "prompt = f\"\"\"    \n",
    "What is the sentiment for the product review enclosed within triple backticks below\n",
    "\n",
    "provide your answer as a single word, either \"positive\" or \"negative\"\n",
    "\n",
    "Review: ```{lamp_review}```\n",
    "\"\"\""
   ]
  },
  {
   "cell_type": "code",
   "execution_count": 9,
   "metadata": {},
   "outputs": [],
   "source": [
    "response =  get_completion(prompt)"
   ]
  },
  {
   "cell_type": "code",
   "execution_count": 10,
   "metadata": {},
   "outputs": [
    {
     "data": {
      "text/plain": [
       "'Positive'"
      ]
     },
     "execution_count": 10,
     "metadata": {},
     "output_type": "execute_result"
    }
   ],
   "source": [
    "response"
   ]
  },
  {
   "cell_type": "code",
   "execution_count": 11,
   "metadata": {},
   "outputs": [],
   "source": [
    "#  Identifying emotions from a text\n",
    "\n",
    "\n",
    "prompt = f\"\"\"   \n",
    "Identify the list of emotions that the writer of the \\\n",
    "following review is expressing. Include no more than \\\n",
    "five items in the list. Format your answer as a list of \\\n",
    "lowercase words seperated by commas.\n",
    "\n",
    "Review text : ```{lamp_review}```\n",
    "\"\"\""
   ]
  },
  {
   "cell_type": "code",
   "execution_count": 12,
   "metadata": {},
   "outputs": [],
   "source": [
    "response= get_completion(prompt)"
   ]
  },
  {
   "cell_type": "code",
   "execution_count": 13,
   "metadata": {},
   "outputs": [
    {
     "data": {
      "text/plain": [
       "'satisfaction, gratitude, appreciation, relief, contentment'"
      ]
     },
     "execution_count": 13,
     "metadata": {},
     "output_type": "execute_result"
    }
   ],
   "source": [
    "response"
   ]
  },
  {
   "cell_type": "code",
   "execution_count": 14,
   "metadata": {},
   "outputs": [],
   "source": [
    "# Identifying Anger\n",
    "\n",
    "prompt =f\"\"\"   \n",
    "Is the writer of the following review enclosed in triple backticks \\\n",
    "expressed anger in it. Give your answer in single word 'yes' or 'no'\n",
    "\n",
    "\n",
    "Review: ```{lamp_review}```\n",
    "\"\"\""
   ]
  },
  {
   "cell_type": "code",
   "execution_count": 15,
   "metadata": {},
   "outputs": [],
   "source": [
    "resp = get_completion(prompt)"
   ]
  },
  {
   "cell_type": "code",
   "execution_count": 16,
   "metadata": {},
   "outputs": [
    {
     "data": {
      "text/plain": [
       "'No'"
      ]
     },
     "execution_count": 16,
     "metadata": {},
     "output_type": "execute_result"
    }
   ],
   "source": [
    "resp"
   ]
  },
  {
   "cell_type": "markdown",
   "metadata": {},
   "source": [
    "### Extract product and company name from customer reviews"
   ]
  },
  {
   "cell_type": "code",
   "execution_count": 21,
   "metadata": {},
   "outputs": [],
   "source": [
    "prompt = f\"\"\"   \n",
    "Identify the following items from the review text:\n",
    "1) Item purchased by reviewer\n",
    "2) Company that made the item\n",
    "\n",
    "The review is delimited with triple backticks.\n",
    "Format your response as a JSON object with\n",
    "\"Item\" and \"Brand\" as keys.\n",
    "If the information is not present in the review, use \"unknown\"\n",
    "as the output for that information.\n",
    "\n",
    "Review : ```{lamp_review}```\n",
    "\n",
    "\"\"\""
   ]
  },
  {
   "cell_type": "code",
   "execution_count": 22,
   "metadata": {},
   "outputs": [],
   "source": [
    "response = get_completion(prompt)"
   ]
  },
  {
   "cell_type": "code",
   "execution_count": 24,
   "metadata": {},
   "outputs": [
    {
     "name": "stdout",
     "output_type": "stream",
     "text": [
      "```json\n",
      "{\n",
      "  \"Item\": \"lamp\",\n",
      "  \"Brand\": \"Lumina\"\n",
      "}\n",
      "```\n"
     ]
    }
   ],
   "source": [
    "print(response)"
   ]
  },
  {
   "cell_type": "code",
   "execution_count": 35,
   "metadata": {},
   "outputs": [],
   "source": [
    "# doing multiple tasks at once\n",
    "\n",
    "prompt = f\"\"\"   \n",
    "Identify the following items from the review text\n",
    "- Sentiment (postive or negative)\n",
    "- Is the reviewer has expressed anger ? (true or false)\n",
    "- Item purchased by the reviewer\n",
    "- Company that made the item\n",
    "\n",
    "The review is enclosed in triple backticks.\n",
    "Format your response as a JSON object with\n",
    "\"Sentiment\", \"Anger\" , \"Item\" and \"Brand\" as the keys.\n",
    "If the information is not available use \"unknown\" as the value.\n",
    "Make your response as short as possible with just the json object alone without any other identifiers like 'json'.\n",
    "Format the Anger value as boolean.\n",
    "\n",
    "Review : ```{lamp_review}```\n",
    "\"\"\""
   ]
  },
  {
   "cell_type": "code",
   "execution_count": 36,
   "metadata": {},
   "outputs": [],
   "source": [
    "response =  get_completion(prompt)"
   ]
  },
  {
   "cell_type": "code",
   "execution_count": 37,
   "metadata": {},
   "outputs": [
    {
     "name": "stdout",
     "output_type": "stream",
     "text": [
      "{\n",
      "    \"Sentiment\": \"positive\",\n",
      "    \"Anger\": false,\n",
      "    \"Item\": \"lamp\",\n",
      "    \"Brand\": \"Lumina\"\n",
      "}\n"
     ]
    }
   ],
   "source": [
    "print(response)"
   ]
  },
  {
   "cell_type": "markdown",
   "metadata": {},
   "source": [
    "Topic Detection Using Open AI"
   ]
  },
  {
   "cell_type": "code",
   "execution_count": 38,
   "metadata": {},
   "outputs": [],
   "source": [
    "story = \"\"\"\n",
    "In a recent survey conducted by the government, \n",
    "public sector employees were asked to rate their level \n",
    "of satisfaction with the department they work at. \n",
    "The results revealed that NASA was the most popular \n",
    "department with a satisfaction rating of 95%.\n",
    "\n",
    "One NASA employee, John Smith, commented on the findings, \n",
    "stating, \"I'm not surprised that NASA came out on top. \n",
    "It's a great place to work with amazing people and \n",
    "incredible opportunities. I'm proud to be a part of \n",
    "such an innovative organization.\"\n",
    "\n",
    "The results were also welcomed by NASA's management team, \n",
    "with Director Tom Johnson stating, \"We are thrilled to \n",
    "hear that our employees are satisfied with their work at NASA. \n",
    "We have a talented and dedicated team who work tirelessly \n",
    "to achieve our goals, and it's fantastic to see that their \n",
    "hard work is paying off.\"\n",
    "\n",
    "The survey also revealed that the \n",
    "Social Security Administration had the lowest satisfaction \n",
    "rating, with only 45% of employees indicating they were \n",
    "satisfied with their job. The government has pledged to \n",
    "address the concerns raised by employees in the survey and \n",
    "work towards improving job satisfaction across all departments.\n",
    "\"\"\""
   ]
  },
  {
   "cell_type": "code",
   "execution_count": 39,
   "metadata": {},
   "outputs": [],
   "source": [
    "prompt = f\"\"\"   \n",
    "Determine five topics that are being discussed in the \n",
    "following text, which is delimited by triple backticks\n",
    "\n",
    "Make each item one or two words long.\n",
    "\n",
    "Format your response as list of items seperated by commas.\n",
    "\n",
    "Text sample: ```{story}```\n",
    "\"\"\""
   ]
  },
  {
   "cell_type": "code",
   "execution_count": 40,
   "metadata": {},
   "outputs": [],
   "source": [
    "response = get_completion(prompt)"
   ]
  },
  {
   "cell_type": "code",
   "execution_count": 41,
   "metadata": {},
   "outputs": [
    {
     "data": {
      "text/plain": [
       "'NASA, Employee Satisfaction, Survey Results, Public Sector, Social Security Administration'"
      ]
     },
     "execution_count": 41,
     "metadata": {},
     "output_type": "execute_result"
    }
   ],
   "source": [
    "response"
   ]
  },
  {
   "cell_type": "code",
   "execution_count": 43,
   "metadata": {},
   "outputs": [
    {
     "data": {
      "text/plain": [
       "['NASA',\n",
       " 'Employee Satisfaction',\n",
       " 'Survey Results',\n",
       " 'Public Sector',\n",
       " 'Social Security Administration']"
      ]
     },
     "execution_count": 43,
     "metadata": {},
     "output_type": "execute_result"
    }
   ],
   "source": [
    "response.split(', ')"
   ]
  },
  {
   "cell_type": "code",
   "execution_count": 44,
   "metadata": {},
   "outputs": [],
   "source": [
    "topics = [\n",
    "    'nasa',\n",
    "    'local government',\n",
    "    'engineering',\n",
    "    'employee satisfaction',\n",
    "    'federal government'\n",
    "]"
   ]
  },
  {
   "cell_type": "code",
   "execution_count": 45,
   "metadata": {},
   "outputs": [],
   "source": [
    "prompt = f\"\"\"    \n",
    "Determine whether each item in the following list of\n",
    "topics is a topic in the text below, whic \n",
    "is delimited with triple backticks.\n",
    "\n",
    "\n",
    "Give your answer as follows:\n",
    "item from the list : 0 or 1\n",
    "\n",
    "List of topics: {\", \".join(topics)}\n",
    "\n",
    "Text sample: ```{story}```\n",
    "\"\"\""
   ]
  },
  {
   "cell_type": "code",
   "execution_count": 46,
   "metadata": {},
   "outputs": [],
   "source": [
    "response = get_completion(prompt)"
   ]
  },
  {
   "cell_type": "code",
   "execution_count": 48,
   "metadata": {},
   "outputs": [
    {
     "name": "stdout",
     "output_type": "stream",
     "text": [
      "nasa : 1  \n",
      "local government : 0  \n",
      "engineering : 0  \n",
      "employee satisfaction : 1  \n",
      "federal government : 1\n"
     ]
    }
   ],
   "source": [
    "print(response)"
   ]
  },
  {
   "cell_type": "markdown",
   "metadata": {},
   "source": [
    "#### Transforming"
   ]
  },
  {
   "cell_type": "raw",
   "metadata": {
    "vscode": {
     "languageId": "raw"
    }
   },
   "source": [
    "Various Activities Comes Under Transforming\n",
    "\n",
    "Translation\n",
    "Tone Transformation\n",
    "Format Conversion\n",
    "Spellchecks/ Grammar check\n",
    "\n",
    "\n"
   ]
  },
  {
   "cell_type": "code",
   "execution_count": 49,
   "metadata": {},
   "outputs": [],
   "source": [
    "# Translation English To Spanish\n",
    "\n",
    "prompt = f\"\"\"    \n",
    "Translate the following English text to Spanish:\n",
    "```Hi, I would like to order a blender```\n",
    "\"\"\"\n"
   ]
  },
  {
   "cell_type": "code",
   "execution_count": 50,
   "metadata": {},
   "outputs": [],
   "source": [
    "response = get_completion(prompt)"
   ]
  },
  {
   "cell_type": "code",
   "execution_count": 51,
   "metadata": {},
   "outputs": [
    {
     "data": {
      "text/plain": [
       "'Hola, me gustaría pedir una licuadora.'"
      ]
     },
     "execution_count": 51,
     "metadata": {},
     "output_type": "execute_result"
    }
   ],
   "source": [
    "response"
   ]
  },
  {
   "cell_type": "code",
   "execution_count": 52,
   "metadata": {},
   "outputs": [],
   "source": [
    "prompt = f\"\"\"    \n",
    "Translate the following spanish text to English:\n",
    "```Hola, me gustaría pedir una licuadora.```\n",
    "\"\"\""
   ]
  },
  {
   "cell_type": "code",
   "execution_count": 53,
   "metadata": {},
   "outputs": [
    {
     "name": "stdout",
     "output_type": "stream",
     "text": [
      "Hello, I would like to order a blender.\n"
     ]
    }
   ],
   "source": [
    "print(get_completion(prompt))"
   ]
  },
  {
   "cell_type": "code",
   "execution_count": 56,
   "metadata": {},
   "outputs": [],
   "source": [
    "# detect language\n",
    "\n",
    "prompt = f\"\"\"    \n",
    "Tell me which language this is in one word:\n",
    "```Le soleil brille à travers les nuages ce matin.```\n",
    "\"\"\""
   ]
  },
  {
   "cell_type": "code",
   "execution_count": 57,
   "metadata": {},
   "outputs": [
    {
     "name": "stdout",
     "output_type": "stream",
     "text": [
      "French\n"
     ]
    }
   ],
   "source": [
    "print(get_completion(prompt))"
   ]
  },
  {
   "cell_type": "code",
   "execution_count": 59,
   "metadata": {},
   "outputs": [],
   "source": [
    "# translation to multiple languages\n",
    "\n",
    "prompt = f\"\"\"    \n",
    "Translate the following text to French, Spanish And German\n",
    "```I want to order a basketball```\n",
    "\"\"\""
   ]
  },
  {
   "cell_type": "code",
   "execution_count": 60,
   "metadata": {},
   "outputs": [
    {
     "name": "stdout",
     "output_type": "stream",
     "text": [
      "Sure! Here is the translation of \"I want to order a basketball\" in French, Spanish, and German:\n",
      "\n",
      "- French: Je veux commander un ballon de basket.\n",
      "- Spanish: Quiero pedir un balón de baloncesto.\n",
      "- German: Ich möchte einen Basketball bestellen.\n"
     ]
    }
   ],
   "source": [
    "print(get_completion(prompt))"
   ]
  },
  {
   "cell_type": "markdown",
   "metadata": {},
   "source": [
    "### Application Of Translation : Universal Translator"
   ]
  },
  {
   "cell_type": "code",
   "execution_count": 61,
   "metadata": {},
   "outputs": [],
   "source": [
    "user_messages = [\n",
    "  \"La performance du système est plus lente que d'habitude.\",  # System performance is slower than normal         \n",
    "  \"Mi monitor tiene píxeles que no se iluminan.\",              # My monitor has pixels that are not lighting\n",
    "  \"Il mio mouse non funziona\",                                 # My mouse is not working\n",
    "  \"Mój klawisz Ctrl jest zepsuty\",                             # My keyboard has a broken control key\n",
    "  \"我的屏幕在闪烁\"                                              # My screen is flashing\n",
    "] "
   ]
  },
  {
   "cell_type": "code",
   "execution_count": 62,
   "metadata": {},
   "outputs": [
    {
     "name": "stdout",
     "output_type": "stream",
     "text": [
      "Message (The language of the text is French.):La performance du système est plus lente que d'habitude.\n",
      "**English:** The system's performance is slower than usual.\n",
      "\n",
      "**Korean:** 시스템의 성능이 평소보다 느립니다. \n",
      "\n",
      "Message (The language of the text is Spanish.):Mi monitor tiene píxeles que no se iluminan.\n",
      "**English:** My monitor has pixels that do not light up.\n",
      "\n",
      "**Korean:** 내 모니터에 불이 들어오지 않는 픽셀이 있습니다. \n",
      "\n",
      "Message (The sentence \"Il mio mouse non funziona\" is in Italian. It translates to \"My mouse is not working\" in English.):Il mio mouse non funziona\n",
      "**English:** \"My mouse is not working.\"\n",
      "\n",
      "**Korean:** \"내 마우스가 작동하지 않아요.\" \n",
      "\n",
      "Message (The sentence \"Mój klawisz Ctrl jest zepsuty\" is in Polish. It translates to \"My Ctrl key is broken\" in English.):Mój klawisz Ctrl jest zepsuty\n",
      "**English:** My Ctrl key is broken.\n",
      "\n",
      "**Korean:** 제 Ctrl 키가 고장 났어요. \n",
      "\n",
      "Message (The text you provided is in Chinese. It translates to \"My screen is flickering\" in English.):我的屏幕在闪烁\n",
      "**English:** \"My screen is flickering.\"\n",
      "\n",
      "**Korean:** \"내 화면이 깜박거리고 있어요.\" \n",
      "\n"
     ]
    }
   ],
   "source": [
    "for message in user_messages:\n",
    "\n",
    "    prompt = f\"Tell me what language this is: ```{message}```\"\n",
    "\n",
    "    lang = get_completion(prompt)\n",
    "\n",
    "    print(f\"Message ({lang}):{message}\")\n",
    "\n",
    "    prompt_translate = f\"\"\"    \n",
    "    Translate the following text to English\n",
    "    and Korean: ```{message}```\n",
    "    \"\"\"\n",
    "\n",
    "    response = get_completion(prompt_translate)\n",
    "\n",
    "    print(response,'\\n')"
   ]
  },
  {
   "cell_type": "markdown",
   "metadata": {},
   "source": [
    "#### Tone Transformation"
   ]
  },
  {
   "cell_type": "code",
   "execution_count": 63,
   "metadata": {},
   "outputs": [],
   "source": [
    "prompt = f\"\"\"   \n",
    "Translate the following slang to a business letter:\n",
    "'Dude, This is Joe, check out this spec on this standing lamp.'\n",
    "\"\"\""
   ]
  },
  {
   "cell_type": "code",
   "execution_count": 64,
   "metadata": {},
   "outputs": [],
   "source": [
    "response = get_completion(prompt)"
   ]
  },
  {
   "cell_type": "code",
   "execution_count": 66,
   "metadata": {},
   "outputs": [
    {
     "name": "stdout",
     "output_type": "stream",
     "text": [
      "Subject: Introduction and Product Specification for Standing Lamp\n",
      "\n",
      "Dear [Recipient's Name],\n",
      "\n",
      "I hope this message finds you well. My name is Joe, and I am reaching out to share the specifications of a standing lamp that may be of interest to you.\n",
      "\n",
      "Please find attached the detailed specifications for your review. I believe this product could be a valuable addition to your offerings.\n",
      "\n",
      "Thank you for your time and consideration. I look forward to your feedback.\n",
      "\n",
      "Best regards,\n",
      "\n",
      "Joe\n"
     ]
    }
   ],
   "source": [
    "print(response)"
   ]
  },
  {
   "cell_type": "markdown",
   "metadata": {},
   "source": [
    "#### Spellcheck/ Grammar check"
   ]
  },
  {
   "cell_type": "code",
   "execution_count": 67,
   "metadata": {},
   "outputs": [],
   "source": [
    "sentences_with_issues = [\n",
    "    \"He go to the park yesterday.\",  # Incorrect verb tense.\n",
    "    \"Their coming to the party later.\",  # Incorrect usage of \"their\" instead of \"they're\".\n",
    "    \"I can't wait to recieve you're email.\",  # Spelling error in \"receive\" and incorrect usage of \"you're\" instead of \"your\".\n",
    "    \"She dont have no time for this.\",  # Double negative and missing apostrophe in \"don't\".\n",
    "    \"The cat is sleep on the couch.\",  # Incorrect verb form (\"sleep\" should be \"sleeping\").\n",
    "    \"Its a beautiful day outside, isnt it?\",  # Missing apostrophes in \"It's\" and \"isn't\".\n",
    "    \"I seen that movie last week.\",  # Incorrect verb tense (\"seen\" should be \"saw\").\n",
    "    \"They has been waiting for you since hours.\",  # Incorrect verb agreement (\"has\" should be \"have\").\n",
    "    \"We was talking about it yesterday.\",  # Incorrect verb agreement (\"was\" should be \"were\").\n",
    "    \"Your the best friend anyone could ask for.\",  # Incorrect usage of \"Your\" instead of \"You're\".\n",
    "]"
   ]
  },
  {
   "cell_type": "code",
   "execution_count": 69,
   "metadata": {},
   "outputs": [
    {
     "name": "stdout",
     "output_type": "stream",
     "text": [
      "He went to the park yesterday. \n",
      "\n",
      "Their coming to the party later. \n",
      "\n",
      "Corrected version: They're coming to the party later. \n",
      "\n",
      "I can't wait to receive your email. \n",
      "\n",
      "She doesn't have any time for this. \n",
      "\n",
      "The cat is sleeping on the couch. \n",
      "\n",
      "It's a beautiful day outside, isn't it? \n",
      "\n",
      "I saw that movie last week. \n",
      "\n",
      "They have been waiting for you for hours. \n",
      "\n",
      "We were talking about it yesterday. \n",
      "\n",
      "You're the best friend anyone could ask for. \n",
      "\n"
     ]
    }
   ],
   "source": [
    "for text in sentences_with_issues:\n",
    "\n",
    "    prompt = f\"\"\"   \n",
    "    Proofread and correct the following text and rewrite the corrected version.\n",
    "    If there are no issues with the sentence just say \"No errors found\".\n",
    "    ```{text}```\n",
    "    \"\"\"\n",
    "\n",
    "    response = get_completion(prompt)\n",
    "\n",
    "    print(response,'\\n')"
   ]
  },
  {
   "cell_type": "code",
   "execution_count": 70,
   "metadata": {},
   "outputs": [],
   "source": [
    "text = f\"\"\"\n",
    "Got this for my daughter for her birthday cuz she keeps taking \\\n",
    "mine from my room.  Yes, adults also like pandas too.  She takes \\\n",
    "it everywhere with her, and it's super soft and cute.  One of the \\\n",
    "ears is a bit lower than the other, and I don't think that was \\\n",
    "designed to be asymmetrical. It's a bit small for what I paid for it \\\n",
    "though. I think there might be other options that are bigger for \\\n",
    "the same price.  It arrived a day earlier than expected, so I got \\\n",
    "to play with it myself before I gave it to my daughter.\n",
    "\"\"\""
   ]
  },
  {
   "cell_type": "code",
   "execution_count": 71,
   "metadata": {},
   "outputs": [],
   "source": [
    "prompt = f\"proofread and correct this review: ```{text}```\"\n",
    "\n",
    "\n",
    "response= get_completion(prompt)"
   ]
  },
  {
   "cell_type": "code",
   "execution_count": 73,
   "metadata": {},
   "outputs": [
    {
     "name": "stdout",
     "output_type": "stream",
     "text": [
      "Got this for my daughter for her birthday because she keeps taking mine from my room. Yes, adults like pandas too. She takes it everywhere with her, and it's super soft and cute. One of the ears is a bit lower than the other, and I don't think it was designed to be asymmetrical. It's a bit small for what I paid for it, though. I think there might be other options that are bigger for the same price. It arrived a day earlier than expected, so I got to play with it myself before I gave it to my daughter.\n"
     ]
    }
   ],
   "source": [
    "print(response)"
   ]
  },
  {
   "cell_type": "code",
   "execution_count": 75,
   "metadata": {},
   "outputs": [],
   "source": [
    "from redlines import Redlines\n",
    "from IPython.display import display, Markdown"
   ]
  },
  {
   "cell_type": "code",
   "execution_count": 76,
   "metadata": {},
   "outputs": [
    {
     "data": {
      "text/markdown": [
       "Got this for my daughter for her birthday <span style='color:red;font-weight:700;text-decoration:line-through;'>cuz </span><span style='color:green;font-weight:700;'>because </span>she keeps taking mine from my <span style='color:red;font-weight:700;text-decoration:line-through;'>room.  </span><span style='color:green;font-weight:700;'>room. </span>Yes, adults <span style='color:red;font-weight:700;text-decoration:line-through;'>also </span>like pandas <span style='color:red;font-weight:700;text-decoration:line-through;'>too.  </span><span style='color:green;font-weight:700;'>too. </span>She takes it everywhere with her, and it's super soft and <span style='color:red;font-weight:700;text-decoration:line-through;'>cute.  </span><span style='color:green;font-weight:700;'>cute. </span>One of the ears is a bit lower than the other, and I don't think <span style='color:red;font-weight:700;text-decoration:line-through;'>that </span><span style='color:green;font-weight:700;'>it </span>was designed to be asymmetrical. It's a bit small for what I paid for <span style='color:red;font-weight:700;text-decoration:line-through;'>it </span><span style='color:green;font-weight:700;'>it, </span>though. I think there might be other options that are bigger for the same <span style='color:red;font-weight:700;text-decoration:line-through;'>price.  </span><span style='color:green;font-weight:700;'>price. </span>It arrived a day earlier than expected, so I got to play with it myself before I gave it to my daughter."
      ],
      "text/plain": [
       "<IPython.core.display.Markdown object>"
      ]
     },
     "metadata": {},
     "output_type": "display_data"
    }
   ],
   "source": [
    "diff = Redlines(text,response)\n",
    "\n",
    "display(Markdown(diff.output_markdown))"
   ]
  },
  {
   "cell_type": "markdown",
   "metadata": {},
   "source": [
    "#### Expanding"
   ]
  },
  {
   "cell_type": "markdown",
   "metadata": {},
   "source": [
    "### Customer the automated reply to a customer email"
   ]
  },
  {
   "cell_type": "code",
   "execution_count": 79,
   "metadata": {},
   "outputs": [],
   "source": [
    "# given the sentiment from the lesson on \"inferring\",\n",
    "# and the original customer message, customize the email\n",
    "sentiment = \"negative\"\n",
    "\n",
    "# review for a blender\n",
    "review = f\"\"\"\n",
    "So, they still had the 17 piece system on seasonal \\\n",
    "sale for around $49 in the month of November, about \\\n",
    "half off, but for some reason (call it price gouging) \\\n",
    "around the second week of December the prices all went \\\n",
    "up to about anywhere from between $70-$89 for the same \\\n",
    "system. And the 11 piece system went up around $10 or \\\n",
    "so in price also from the earlier sale price of $29. \\\n",
    "So it looks okay, but if you look at the base, the part \\\n",
    "where the blade locks into place doesn’t look as good \\\n",
    "as in previous editions from a few years ago, but I \\\n",
    "plan to be very gentle with it (example, I crush \\\n",
    "very hard items like beans, ice, rice, etc. in the \\\n",
    "blender first then pulverize them in the serving size \\\n",
    "I want in the blender then switch to the whipping \\\n",
    "blade for a finer flour, and use the cross cutting blade \\\n",
    "first when making smoothies, then use the flat blade \\\n",
    "if I need them finer/less pulpy). Special tip when making \\\n",
    "smoothies, finely cut and freeze the fruits and \\\n",
    "vegetables (if using spinach-lightly stew soften the \\\n",
    "spinach then freeze until ready for use-and if making \\\n",
    "sorbet, use a small to medium sized food processor) \\\n",
    "that you plan to use that way you can avoid adding so \\\n",
    "much ice if at all-when making your smoothie. \\\n",
    "After about a year, the motor was making a funny noise. \\\n",
    "I called customer service but the warranty expired \\\n",
    "already, so I had to buy another one. FYI: The overall \\\n",
    "quality has gone done in these types of products, so \\\n",
    "they are kind of counting on brand recognition and \\\n",
    "consumer loyalty to maintain sales. Got it in about \\\n",
    "two days.\n",
    "\"\"\""
   ]
  },
  {
   "cell_type": "code",
   "execution_count": 81,
   "metadata": {},
   "outputs": [],
   "source": [
    "prompt = f\"\"\"   \n",
    "You are a customer service AI assistant.\n",
    "Your task is to send an email to a valued customer.\n",
    "Given the customer email delimited by ```,\\\n",
    "Generate a reply to thank the customer for their review.\n",
    "If the sentiment is negative, apologize and suggest that\\\n",
    "they can reach out to customer service.\n",
    "Make sure to use specific details from the review.\n",
    "Write in a concise and professional tone.\n",
    "Sign the email as 'AI customer agent'.\n",
    "Customer review: ```{review}```\n",
    "Review Sentiment: {sentiment}\n",
    "\"\"\""
   ]
  },
  {
   "cell_type": "code",
   "execution_count": 82,
   "metadata": {},
   "outputs": [],
   "source": [
    "automated_email = get_completion(prompt)"
   ]
  },
  {
   "cell_type": "code",
   "execution_count": 84,
   "metadata": {},
   "outputs": [
    {
     "name": "stdout",
     "output_type": "stream",
     "text": [
      "Subject: Thank You for Your Feedback\n",
      "\n",
      "Dear Valued Customer,\n",
      "\n",
      "Thank you for taking the time to share your detailed review with us. We sincerely apologize for any inconvenience you experienced with the pricing changes and the quality of the product. We understand how frustrating it can be when prices fluctuate unexpectedly and when the product does not meet your expectations.\n",
      "\n",
      "We appreciate your insights on the product's performance and your creative tips for using it effectively. Your feedback is invaluable to us as we strive to improve our offerings and customer experience.\n",
      "\n",
      "If you have any further concerns or need assistance, please do not hesitate to reach out to our customer service team. We are here to help and ensure your satisfaction.\n",
      "\n",
      "Thank you once again for your feedback and for being a valued customer.\n",
      "\n",
      "Best regards,\n",
      "\n",
      "AI Customer Agent\n"
     ]
    }
   ],
   "source": [
    "print(automated_email)"
   ]
  },
  {
   "cell_type": "code",
   "execution_count": null,
   "metadata": {},
   "outputs": [],
   "source": []
  }
 ],
 "metadata": {
  "kernelspec": {
   "display_name": "venv",
   "language": "python",
   "name": "python3"
  },
  "language_info": {
   "codemirror_mode": {
    "name": "ipython",
    "version": 3
   },
   "file_extension": ".py",
   "mimetype": "text/x-python",
   "name": "python",
   "nbconvert_exporter": "python",
   "pygments_lexer": "ipython3",
   "version": "3.12.3"
  }
 },
 "nbformat": 4,
 "nbformat_minor": 2
}
