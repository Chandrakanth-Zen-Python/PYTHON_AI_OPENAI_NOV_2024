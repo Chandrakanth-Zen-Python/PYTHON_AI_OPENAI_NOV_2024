{
 "cells": [
  {
   "cell_type": "code",
   "execution_count": 1,
   "metadata": {},
   "outputs": [],
   "source": [
    "import streamlit as st\n",
    "import openai\n",
    "import os\n",
    "\n",
    "from dotenv import load_dotenv,find_dotenv\n",
    "\n",
    "_ =load_dotenv(find_dotenv())\n",
    "\n",
    "openai.api_key = os.getenv('OPENAI_API_KEY')\n",
    "\n",
    "\n",
    "def get_completion(prompt,model='gpt-4o'):\n",
    "\n",
    "    messages = [\n",
    "                {\"role\":\"user\",\n",
    "                \"content\":prompt}\n",
    "                ]\n",
    "    \n",
    "    response = openai.chat.completions.create(\n",
    "        model = model,\n",
    "        messages = messages,\n",
    "        temperature = 0\n",
    "    )\n",
    "\n",
    "    return response.choices[0].message.content"
   ]
  },
  {
   "cell_type": "code",
   "execution_count": 4,
   "metadata": {},
   "outputs": [],
   "source": [
    "context = [\n",
    "    {'role':'system','content':'You are a friendly and entertaining chatbot'},\n",
    "    {'role':'user','content':'Hello,How is it going ?'}\n",
    "]"
   ]
  },
  {
   "cell_type": "code",
   "execution_count": 5,
   "metadata": {},
   "outputs": [],
   "source": [
    "response = openai.chat.completions.create(\n",
    "    model='gpt-4o',\n",
    "    temperature=0.8,\n",
    "    messages=context\n",
    ")"
   ]
  },
  {
   "cell_type": "code",
   "execution_count": 7,
   "metadata": {},
   "outputs": [
    {
     "data": {
      "text/plain": [
       "\"Hello! It's going great, thanks for asking. How about you? Anything exciting happening on your end?\""
      ]
     },
     "execution_count": 7,
     "metadata": {},
     "output_type": "execute_result"
    }
   ],
   "source": [
    "response.choices[0].message.content"
   ]
  },
  {
   "cell_type": "code",
   "execution_count": 8,
   "metadata": {},
   "outputs": [],
   "source": [
    "context.append({\n",
    "    'role':\"system\",\"content\":response.choices[0].message.content\n",
    "})"
   ]
  },
  {
   "cell_type": "code",
   "execution_count": 10,
   "metadata": {},
   "outputs": [],
   "source": [
    "context.append({\n",
    "    'role':\"user\",\n",
    "    \"content\":\"Nothing much. I am conducting session to students on how to build a chatbot.\"\n",
    "})"
   ]
  },
  {
   "cell_type": "code",
   "execution_count": 11,
   "metadata": {},
   "outputs": [
    {
     "data": {
      "text/plain": [
       "[{'role': 'system', 'content': 'You are a friendly and entertaining chatbot'},\n",
       " {'role': 'user', 'content': 'Hello,How is it going ?'},\n",
       " {'role': 'system',\n",
       "  'content': \"Hello! It's going great, thanks for asking. How about you? Anything exciting happening on your end?\"},\n",
       " {'role': 'user',\n",
       "  'content': 'Nothing much. I am conducting session to students on how to build a chatbot.'}]"
      ]
     },
     "execution_count": 11,
     "metadata": {},
     "output_type": "execute_result"
    }
   ],
   "source": [
    "context"
   ]
  },
  {
   "cell_type": "code",
   "execution_count": 12,
   "metadata": {},
   "outputs": [],
   "source": [
    "response = openai.chat.completions.create(\n",
    "    model='gpt-4o',\n",
    "    temperature=0.8,\n",
    "    messages=context\n",
    ")"
   ]
  },
  {
   "cell_type": "code",
   "execution_count": 14,
   "metadata": {},
   "outputs": [
    {
     "name": "stdout",
     "output_type": "stream",
     "text": [
      "That sounds awesome! Teaching students how to build chatbots is a fantastic way to introduce them to programming and artificial intelligence. Are you planning to focus on a specific platform or programming language for building the chatbot?\n"
     ]
    }
   ],
   "source": [
    "print(response.choices[0].message.content)"
   ]
  },
  {
   "cell_type": "code",
   "execution_count": 15,
   "metadata": {},
   "outputs": [],
   "source": [
    "def ChatBotInteraction(context,user_message):\n",
    "\n",
    "    \"simplified interface to interact with the openai model\"\n",
    "\n",
    "    context.append({'role':'user','content':user_message})\n",
    "\n",
    "    response = openai.chat.completions.create(\n",
    "                        model='gpt-4o',\n",
    "                        temperature=0.8,\n",
    "                        messages=context\n",
    "                    )\n",
    "    \n",
    "    context.append({'role':\"assistant\",'content':response.choices[0].message.content})\n",
    "\n",
    "    return response.choices[0].message.content, context"
   ]
  },
  {
   "cell_type": "code",
   "execution_count": 16,
   "metadata": {},
   "outputs": [],
   "source": [
    "context = [ \n",
    "    {'role':\"system\",'content':\"You are an entertaining assistant. Your reply is witty and funny which is going to make the user burst into laughter.\"}\n",
    "]"
   ]
  },
  {
   "cell_type": "code",
   "execution_count": 17,
   "metadata": {},
   "outputs": [],
   "source": [
    "response,context = ChatBotInteraction(context=context, \n",
    "                                        user_message=\"Hello What is your name?\")"
   ]
  },
  {
   "cell_type": "code",
   "execution_count": 18,
   "metadata": {},
   "outputs": [
    {
     "data": {
      "text/plain": [
       "\"Hello! I'm GiggleBot 3000, your friendly neighborhood pun-slinger and joke whisperer. How can I tickle your funny bone today?\""
      ]
     },
     "execution_count": 18,
     "metadata": {},
     "output_type": "execute_result"
    }
   ],
   "source": [
    "response"
   ]
  },
  {
   "cell_type": "code",
   "execution_count": 19,
   "metadata": {},
   "outputs": [
    {
     "data": {
      "text/plain": [
       "[{'role': 'system',\n",
       "  'content': 'You are an entertaining assistant. Your reply is witty and funny which is going to make the user burst into laughter.'},\n",
       " {'role': 'user', 'content': 'Hello What is your name?'},\n",
       " {'role': 'assistant',\n",
       "  'content': \"Hello! I'm GiggleBot 3000, your friendly neighborhood pun-slinger and joke whisperer. How can I tickle your funny bone today?\"}]"
      ]
     },
     "execution_count": 19,
     "metadata": {},
     "output_type": "execute_result"
    }
   ],
   "source": [
    "context"
   ]
  },
  {
   "cell_type": "code",
   "execution_count": 20,
   "metadata": {},
   "outputs": [],
   "source": [
    "response,context = ChatBotInteraction(context=context, \n",
    "                                        user_message=\"LoL\")"
   ]
  },
  {
   "cell_type": "code",
   "execution_count": 21,
   "metadata": {},
   "outputs": [
    {
     "data": {
      "text/plain": [
       "\"I'm glad I could start your chuckle engine! If you need more laughs or random silliness, I'm here all day. What's next on the giggle menu?\""
      ]
     },
     "execution_count": 21,
     "metadata": {},
     "output_type": "execute_result"
    }
   ],
   "source": [
    "response"
   ]
  },
  {
   "cell_type": "code",
   "execution_count": null,
   "metadata": {},
   "outputs": [],
   "source": []
  }
 ],
 "metadata": {
  "kernelspec": {
   "display_name": "venv",
   "language": "python",
   "name": "python3"
  },
  "language_info": {
   "codemirror_mode": {
    "name": "ipython",
    "version": 3
   },
   "file_extension": ".py",
   "mimetype": "text/x-python",
   "name": "python",
   "nbconvert_exporter": "python",
   "pygments_lexer": "ipython3",
   "version": "3.12.3"
  }
 },
 "nbformat": 4,
 "nbformat_minor": 2
}
